{
 "cells": [
  {
   "cell_type": "code",
   "execution_count": 5,
   "metadata": {},
   "outputs": [],
   "source": [
    "import os\n",
    "import pandas as pd"
   ]
  },
  {
   "cell_type": "code",
   "execution_count": 6,
   "metadata": {},
   "outputs": [],
   "source": [
    "PATH = os.path.join('dataset_csv', 'kidney_subtyping.csv')\n",
    "csv = pd.read_csv(PATH)"
   ]
  },
  {
   "cell_type": "code",
   "execution_count": 7,
   "metadata": {},
   "outputs": [
    {
     "name": "stdout",
     "output_type": "stream",
     "text": [
      "                                              slide_id label\n",
      "0    TCGA-IA-A83W-01Z-00-DX1.5A3E52F6-F36B-462C-BEC...  KIRP\n",
      "1    TCGA-IA-A83T-01Z-00-DX1.12419A50-9BAC-4469-AF8...  KIRP\n",
      "2    TCGA-HE-7128-01Z-00-DX1.29FBDF7D-24CE-44F8-B72...  KIRP\n",
      "3    TCGA-HE-A5NF-01Z-00-DX1.74ABE42F-E64E-4550-AD8...  KIRP\n",
      "4    TCGA-IA-A83S-01Z-00-DX1.806D1CFE-07E1-4CC2-AE7...  KIRP\n",
      "..                                                 ...   ...\n",
      "935  TCGA-B0-4818-01Z-00-DX1.b5b74b2d-0d2f-40b3-81c...  KIRC\n",
      "936  TCGA-BP-4999-01Z-00-DX1.e78eaded-4e89-4bcf-b3f...  KIRC\n",
      "937  TCGA-B0-4811-01Z-00-DX1.8872dd8e-d119-4928-863...  KIRC\n",
      "938  TCGA-B4-5836-01Z-00-DX1.5F2DDC1A-9DA3-46B7-A0B...  KIRC\n",
      "939  TCGA-BP-4960-01Z-00-DX1.8ed78985-d391-4756-ab3...  KIRC\n",
      "\n",
      "[940 rows x 2 columns]\n"
     ]
    }
   ],
   "source": [
    "print(csv)"
   ]
  },
  {
   "cell_type": "code",
   "execution_count": 8,
   "metadata": {},
   "outputs": [],
   "source": [
    "csv.sort_values(['slide_id'], axis=0, inplace=True)\n",
    "csv = csv.reset_index(drop=True)\n",
    "csv.insert(0,'case_id','')"
   ]
  },
  {
   "cell_type": "code",
   "execution_count": 9,
   "metadata": {},
   "outputs": [],
   "source": [
    "for i in range(csv.shape[0]):\n",
    "    s = '-'.join(csv.at[i,'slide_id'].split('-')[:2])\n",
    "    csv.at[i,'case_id'] = s"
   ]
  },
  {
   "cell_type": "code",
   "execution_count": 10,
   "metadata": {},
   "outputs": [
    {
     "name": "stdout",
     "output_type": "stream",
     "text": [
      "     case_id                                           slide_id label\n",
      "0    TCGA-2K  TCGA-2K-A9WE-01Z-00-DX1.ED8ADE3B-D49B-403B-B4E...  KIRP\n",
      "1    TCGA-2Z  TCGA-2Z-A9J1-01Z-00-DX1.07E7992F-1AC5-4E34-8A4...  KIRP\n",
      "2    TCGA-2Z  TCGA-2Z-A9J2-01Z-00-DX1.AC19245F-B3B9-4A3A-89A...  KIRP\n",
      "3    TCGA-2Z  TCGA-2Z-A9J3-01Z-00-DX1.6B0E7DF6-733D-4007-84A...  KIRP\n",
      "4    TCGA-2Z  TCGA-2Z-A9J5-01Z-00-DX1.ABD15820-58CA-4765-ACB...  KIRP\n",
      "..       ...                                                ...   ...\n",
      "935  TCGA-Y8  TCGA-Y8-A898-01Z-00-DX1.DB759C9A-0A6C-4F57-8AA...  KIRP\n",
      "936  TCGA-Y8  TCGA-Y8-A8RY-01Z-00-DX1.E111130F-F693-4A13-8F9...  KIRP\n",
      "937  TCGA-Y8  TCGA-Y8-A8RZ-01Z-00-DX1.30EA1B30-C162-40D8-AB2...  KIRP\n",
      "938  TCGA-Y8  TCGA-Y8-A8S0-01Z-00-DX1.B7010362-0F7C-4094-A9A...  KIRP\n",
      "939  TCGA-Y8  TCGA-Y8-A8S1-01Z-00-DX1.070EF07D-6A9B-4E32-985...  KIRP\n",
      "\n",
      "[940 rows x 3 columns]\n"
     ]
    }
   ],
   "source": [
    "print(csv)"
   ]
  },
  {
   "cell_type": "code",
   "execution_count": 11,
   "metadata": {},
   "outputs": [],
   "source": [
    "csv.to_csv(os.path.join('dataset_csv', 'kidney_subtyping.csv'), index=False)"
   ]
  },
  {
   "cell_type": "code",
   "execution_count": null,
   "metadata": {},
   "outputs": [],
   "source": []
  }
 ],
 "metadata": {
  "kernelspec": {
   "display_name": "Python 3 (ipykernel)",
   "language": "python",
   "name": "python3"
  },
  "language_info": {
   "codemirror_mode": {
    "name": "ipython",
    "version": 3
   },
   "file_extension": ".py",
   "mimetype": "text/x-python",
   "name": "python",
   "nbconvert_exporter": "python",
   "pygments_lexer": "ipython3",
   "version": "3.8.9"
  }
 },
 "nbformat": 4,
 "nbformat_minor": 4
}
