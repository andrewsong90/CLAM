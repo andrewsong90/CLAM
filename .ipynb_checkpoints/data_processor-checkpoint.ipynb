{
 "cells": [
  {
   "cell_type": "code",
   "execution_count": 2,
   "metadata": {},
   "outputs": [],
   "source": [
    "import os\n",
    "import pandas as pd"
   ]
  },
  {
   "cell_type": "code",
   "execution_count": 3,
   "metadata": {},
   "outputs": [],
   "source": [
    "PATH = os.path.join('results', 'lung', 'label.csv')\n",
    "csv = pd.read_csv(PATH)"
   ]
  },
  {
   "cell_type": "code",
   "execution_count": 4,
   "metadata": {},
   "outputs": [
    {
     "name": "stdout",
     "output_type": "stream",
     "text": [
      "                                               slide_id label\n",
      "0     TCGA-63-A5MG-01Z-00-DX1.EC6B6782-C52F-42B5-AD9...  LUSC\n",
      "1     TCGA-60-2706-01Z-00-DX1.db003232-66ab-437e-81c...  LUSC\n",
      "2     TCGA-60-2714-01Z-00-DX1.13f280a8-c8d3-48bb-8a3...  LUSC\n",
      "3     TCGA-63-A5M9-01Z-00-DX1.4E04AC12-6DAC-4DA2-A99...  LUSC\n",
      "4     TCGA-39-5030-01Z-00-DX1.09d96fb6-9a19-40ae-967...  LUSC\n",
      "...                                                 ...   ...\n",
      "1048  TCGA-49-4506-01Z-00-DX4.9460a2c1-efe2-4095-9b0...  LUAD\n",
      "1049  TCGA-55-8090-01Z-00-DX1.83f86d5f-7cb9-443a-a81...  LUAD\n",
      "1050  TCGA-05-4250-01Z-00-DX1.90f67fdf-dff9-46ca-af7...  LUAD\n",
      "1051  TCGA-NJ-A55O-01Z-00-DX1.8E23C821-B8BB-4D89-9E3...  LUAD\n",
      "1052  TCGA-55-8087-01Z-00-DX1.548f2800-8caf-4c0e-a7b...  LUAD\n",
      "\n",
      "[1053 rows x 2 columns]\n"
     ]
    }
   ],
   "source": [
    "print(csv)"
   ]
  },
  {
   "cell_type": "code",
   "execution_count": 25,
   "metadata": {},
   "outputs": [],
   "source": [
    "csv.sort_values(['slide_id'], axis=0, inplace=True)\n",
    "csv = csv.reset_index(drop=True)\n",
    "csv.insert(0,'case_id','')"
   ]
  },
  {
   "cell_type": "code",
   "execution_count": 35,
   "metadata": {},
   "outputs": [],
   "source": [
    "for i in range(csv.shape[0]):\n",
    "    s = '-'.join(csv.at[i,'slide_id'].split('-')[:2])\n",
    "    csv.at[i,'case_id'] = s"
   ]
  },
  {
   "cell_type": "code",
   "execution_count": 36,
   "metadata": {},
   "outputs": [
    {
     "name": "stdout",
     "output_type": "stream",
     "text": [
      "      case_id                                           slide_id label\n",
      "0     TCGA-05  TCGA-05-4244-01Z-00-DX1.d4ff32cd-38cf-40ea-821...  LUAD\n",
      "1     TCGA-05  TCGA-05-4245-01Z-00-DX1.36ff5403-d4bb-4415-b2c...  LUAD\n",
      "2     TCGA-05  TCGA-05-4249-01Z-00-DX1.9fce0297-cc19-4c04-872...  LUAD\n",
      "3     TCGA-05  TCGA-05-4250-01Z-00-DX1.90f67fdf-dff9-46ca-af7...  LUAD\n",
      "4     TCGA-05  TCGA-05-4382-01Z-00-DX1.76b49a4c-dbbb-48b0-b67...  LUAD\n",
      "...       ...                                                ...   ...\n",
      "1048  TCGA-O2  TCGA-O2-A52V-01Z-00-DX1.561ADDAE-EC55-461A-84B...  LUSC\n",
      "1049  TCGA-O2  TCGA-O2-A52W-01Z-00-DX1.3D388EB0-8402-4540-9E5...  LUSC\n",
      "1050  TCGA-O2  TCGA-O2-A5IB-01Z-00-DX1.E34D0FEC-A9D3-4F7F-997...  LUSC\n",
      "1051  TCGA-S2  TCGA-S2-AA1A-01Z-00-DX1.4B5D5FAE-8305-4D2D-B24...  LUAD\n",
      "1052  TCGA-XC  TCGA-XC-AA0X-01Z-00-DX1.61A34BE0-F16B-4EC1-8E7...  LUSC\n",
      "\n",
      "[1053 rows x 3 columns]\n"
     ]
    }
   ],
   "source": [
    "print(csv)"
   ]
  },
  {
   "cell_type": "code",
   "execution_count": 38,
   "metadata": {},
   "outputs": [],
   "source": [
    "csv.to_csv(os.path.join('results','lung','label_sorted.csv'), index=False)"
   ]
  }
 ],
 "metadata": {
  "kernelspec": {
   "display_name": "Python 3",
   "language": "python",
   "name": "python3"
  },
  "language_info": {
   "codemirror_mode": {
    "name": "ipython",
    "version": 3
   },
   "file_extension": ".py",
   "mimetype": "text/x-python",
   "name": "python",
   "nbconvert_exporter": "python",
   "pygments_lexer": "ipython3",
   "version": "3.8.10"
  }
 },
 "nbformat": 4,
 "nbformat_minor": 4
}
